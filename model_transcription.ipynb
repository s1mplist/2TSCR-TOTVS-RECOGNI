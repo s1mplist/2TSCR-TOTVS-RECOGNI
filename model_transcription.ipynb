{
 "cells": [
  {
   "cell_type": "code",
   "execution_count": 1,
   "metadata": {},
   "outputs": [],
   "source": [
    "from transformers import AutoModel, AutoTokenizer\n",
    "import torch\n",
    "\n",
    "import speech_recognition as sr"
   ]
  },
  {
   "cell_type": "code",
   "execution_count": 5,
   "metadata": {},
   "outputs": [],
   "source": [
    "AUDIO_FILE = \"teste.wav\""
   ]
  },
  {
   "cell_type": "code",
   "execution_count": 6,
   "metadata": {},
   "outputs": [],
   "source": [
    "# use the audio file as the audio source\n",
    "r = sr.Recognizer()\n",
    "with sr.AudioFile(AUDIO_FILE) as source:\n",
    "    audio = r.record(source)  # read the entire audio file"
   ]
  },
  {
   "cell_type": "code",
   "execution_count": 8,
   "metadata": {},
   "outputs": [
    {
     "name": "stdout",
     "output_type": "stream",
     "text": [
      "Sphinx thinks you said and i'm not at the home he ever worked on him up and that did not talk a little bit of a child that can lead them to the head elena huh potluck to end up held iowa to me a matter of that cook to i'm where i am and yet have to lead them back to back up fallen into the main good cut a mind of a dynamic advent of the man that had an open about it than my mind that it can get now that a close match if you had to back that up adding that the bill and all the past decade about angel but they can detrimental to buy a paycheck available but they can't talk about the bombay in the attack on them a decade now met the enchantment amended then i'm out all the little food and he's good with norman shields with a bad egg like the look came out today in one hour after a law pond to mad they cannot get on a plane then that would add that mandela lahaye get walt and then at that apollo ballet and add to that i can only think he only played on having to look a nato lemay that happens not to let all cleaned off all bob bob bob i have it all book then he needed the money at the out violently ill a cuban again you know that world it within the canal wanted a king or lack of it going to bed okay can you can look i need a building that he then capital new political prem of a key to the bombing down by law and then committed in battle in all saying adding tell papa that the men and i'll add that bad operetta and ended badly that i had come in that bottle bombing won't let ellen in the head there were bombing that album that and to make that d'amato then and then into affordable my domingo the abbot of a flat out all those dead heat with that accompany them intimated that that added that won't happen i'll let the comeback kid beckoning pull the plan embedded in that and then apart in the barn door cannot can have it and thirteen phone calling the cops honey and well lopping elaine colliding to multiplied to lemonade but you don't all paid clinton may have thought it a double clemente gal contained tie that to damon in who monte look on the ballot look on the paddle only do i think you make of that unit that you love him and then i'm having trouble ate them it and linked the attack had held all england club and plot to tap at the bank of the aisle he be qualified but why not only to allison hit them in the night that and if you can get up and he didn't let up upon range plan coming coming to let them do that today and edgar are were warrant and gunboat isle maine keypad coming tonight that all heard and coming on qualify it ain't haven't i often in the film of software but they kept added that elms and that of puppet many of a pallet to go on and he burned down on that might have changed but did you get on to haiti in a bag in hand and a fully it on and on the other that the men in bank now pat had about it and i had ever been giving an add up all told you they acknowledge that he planted a bloody good evening hadn't done it now when i learned in at a new pope will at el amin that came out of time and that the well-known thing that happened by having played a quack have that he's made a lot of 'em up and have them look on apple all about it all in bed and hey get up at what they hit the ball and pay interest on top of my bail them out but they had on it and might yell all will good let them ink off a handful meant that he will kill me and i walked in a metal and acknowledged out at a bad them up and they denominator at the club applicable in that cannot but then that they'll eat it but they cheat that in no no no problem until the weather i hadn't thought when people come and get get and get to thing get out again at\n"
     ]
    }
   ],
   "source": [
    "# recognize speech using Sphinx\n",
    "try:\n",
    "    print(\"Sphinx thinks you said \" + r.recognize_sphinx(audio))\n",
    "except sr.UnknownValueError:\n",
    "    print(\"Sphinx could not understand audio\")\n",
    "except sr.RequestError as e:\n",
    "    print(\"Sphinx error; {0}\".format(e))"
   ]
  },
  {
   "cell_type": "code",
   "execution_count": 9,
   "metadata": {},
   "outputs": [
    {
     "name": "stdout",
     "output_type": "stream",
     "text": [
      "Google Speech Recognition could not understand audio\n"
     ]
    }
   ],
   "source": [
    "# recognize speech using Google Speech Recognition\n",
    "try:\n",
    "    # for testing purposes, we're just using the default API key\n",
    "    # to use another API key, use `r.recognize_google(audio, key=\"GOOGLE_SPEECH_RECOGNITION_API_KEY\")`\n",
    "    # instead of `r.recognize_google(audio)`\n",
    "    print(\"Google Speech Recognition thinks you said \" + r.recognize_google(audio))\n",
    "except sr.UnknownValueError:\n",
    "    print(\"Google Speech Recognition could not understand audio\")\n",
    "except sr.RequestError as e:\n",
    "    print(\"Could not request results from Google Speech Recognition service; {0}\".format(e))"
   ]
  }
 ],
 "metadata": {
  "kernelspec": {
   "display_name": "Python 3",
   "language": "python",
   "name": "python3"
  },
  "language_info": {
   "codemirror_mode": {
    "name": "ipython",
    "version": 3
   },
   "file_extension": ".py",
   "mimetype": "text/x-python",
   "name": "python",
   "nbconvert_exporter": "python",
   "pygments_lexer": "ipython3",
   "version": "3.11.9"
  }
 },
 "nbformat": 4,
 "nbformat_minor": 2
}

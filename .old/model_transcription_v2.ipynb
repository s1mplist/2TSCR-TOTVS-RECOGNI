{
 "cells": [
  {
   "cell_type": "code",
   "execution_count": 1,
   "metadata": {},
   "outputs": [],
   "source": [
    "import speech_recognition as sr\n",
    "from pydub import AudioSegment\n",
    "from pydub.utils import make_chunks\n",
    "import matplotlib.pyplot as plt\n",
    "from wordcloud import WordCloud"
   ]
  },
  {
   "cell_type": "code",
   "execution_count": 2,
   "metadata": {},
   "outputs": [],
   "source": [
    "AUDIO_FILE = 'teste.wav'\n",
    "\n",
    "audio = AudioSegment.from_file(AUDIO_FILE, 'wav')\n",
    "\n",
    "size = 30000\n",
    "parts = make_chunks(audio, size) \n",
    "audio_parts =[]"
   ]
  },
  {
   "cell_type": "code",
   "execution_count": 3,
   "metadata": {},
   "outputs": [],
   "source": [
    "for i, parte in enumerate(parts):\n",
    "    parte_name = f'part_{i}.wav'\n",
    "    audio_parts.append(parte_name)\n",
    "    parte.export(parte_name, format='wav')"
   ]
  },
  {
   "cell_type": "code",
   "execution_count": 4,
   "metadata": {},
   "outputs": [],
   "source": [
    "def transcreve_audio(nome_audio):\n",
    "  r = sr.Recognizer()\n",
    "\n",
    "  with sr.AudioFile(nome_audio) as source:\n",
    "    audio = r.record(source) \n",
    "    try:\n",
    "        print(r.recognize_google(audio,language='pt-BR'))\n",
    "        texto = r.recognize_google(audio,language='pt-BR')\n",
    "\n",
    "    except sr.UnknownValueError:\n",
    "        print('Google Speech Recognition NÃO ENTENDEU o audio')\n",
    "        texto = ''\n",
    "\n",
    "    except sr.RequestError as e:\n",
    "        print('Erro ao solicitar resultados do serviço Google Speech Recognition; {0}'.format(e))\n",
    "        texto = ''\n",
    "  return texto"
   ]
  },
  {
   "cell_type": "code",
   "execution_count": 5,
   "metadata": {},
   "outputs": [
    {
     "name": "stdout",
     "output_type": "stream",
     "text": [
      "Escandinávia Natália bom dia bom dia Natália Beatriz ela tá falando gostaria de falar com a senhora Silvânia UTI seria ela ainda responsável pelo sistema só um momento obrigada Silvana bom dia Sara Silvana Beatriz ela tá te falando tudo bem Bom dia Bea\n",
      "tá bem obrigada a senhora Silvana a senhora seria a responsável pelo sistema na empresa Escandinávia veículos né contato é bem rápido eu falo da parte da experiência do cliente eu gostaria de saber somente como que tá aí a experiência acompanhar um pouco a percepção que vocês estão tendo esse acompanhamento é feito pelo método de NPS onde a senhora baleia de 0 a 10 da marca fotos alguns pontos específicos 2 minutinhos tudo bem a senhora seria pela proteína\n",
      "Sim vou mandar tá eu vou só confirmar o CNPJ porque vocês são empresas coligadas né então uma rede o CNPJ que eu tô falando é o 67041 1116000 contra 21 Ok o e-mail da senhora continua a Silvânia ponto\n",
      "Uberlândia Então a gente tem depois do CNPJ final 1 17 o 4,60 e o 540 e o 5 ou 40 isso eu tô vendo aqui a senhora corresponde pelos 3 Tá bom então é para esses quatro Tá eu vou iniciar Então tá a senhora Silvana não escala de 0 a 10 qual a probabilidade da Sara recomendar a tosse\n",
      "homem com uma colega hoje Teria algum comentário algum ponto que a senhora gostaria de anexar sobre a nota então para a gente aprofundar um pouco mais na melhoria agora vou falar alguns pontos específicos e pode caçar avalie também somente de 0 a 10 tá caso tenha contato falando do suporte técnico como a senhora avalia agilidade nos processos de suporte são chamados que a gente abre aí isso oi\n"
     ]
    }
   ],
   "source": [
    "# Aplicando a função de reconhecimento de voz em cada parte\n",
    "texto = ''\n",
    "for parte in audio_parts:\n",
    "  texto = parte + ' ' + transcreve_audio(parte)"
   ]
  },
  {
   "cell_type": "code",
   "execution_count": null,
   "metadata": {},
   "outputs": [],
   "source": [
    "def ouvir_microfone():\n",
    "    #Habilita o microfone para ouvir o usuario\n",
    "    microfone = sr.Recognizer()\n",
    "\n",
    "    with sr.Microphone() as source:\n",
    "        #Chama a funcao de reducao de ruido disponivel na speech_recognition\n",
    "        microfone.adjust_for_ambient_noise(source)\n",
    "\n",
    "        #Avisa ao usuario que esta pronto para ouvir\n",
    "        print(\"Diga alguma coisa: \")\n",
    "\n",
    "        #Armazena a informacao de audio na variavel\n",
    "        audio = microfone.listen(source)\n",
    "        try:\n",
    "            #Passa o audio para o reconhecedor de padroes do speech_recognition\n",
    "            frase = microfone.recognize_google(audio,language='pt-BR')\n",
    "\n",
    "            #Após alguns segundos, retorna a frase falada\n",
    "            print(\"Você disse: \" + frase)\n",
    "\n",
    "            #Caso nao tenha reconhecido o padrao de fala, exibe esta mensagem\n",
    "        except sr.UnkownValueError:\n",
    "            print(\"Não entendi\")\n",
    "            \n",
    "    return frase"
   ]
  },
  {
   "cell_type": "code",
   "execution_count": null,
   "metadata": {},
   "outputs": [],
   "source": [
    "ouvir_microfone()"
   ]
  }
 ],
 "metadata": {
  "kernelspec": {
   "display_name": "Python 3",
   "language": "python",
   "name": "python3"
  },
  "language_info": {
   "codemirror_mode": {
    "name": "ipython",
    "version": 3
   },
   "file_extension": ".py",
   "mimetype": "text/x-python",
   "name": "python",
   "nbconvert_exporter": "python",
   "pygments_lexer": "ipython3",
   "version": "3.11.9"
  }
 },
 "nbformat": 4,
 "nbformat_minor": 2
}

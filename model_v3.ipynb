{
 "cells": [
  {
   "cell_type": "code",
   "execution_count": null,
   "metadata": {},
   "outputs": [],
   "source": [
    "from pydub import AudioSegment\n",
    "from pydub.effects import normalize\n",
    "\n",
    "def norm_audi(audio_path):\n",
    "    # Carregue o arquivo de áudio\n",
    "    audio = AudioSegment.from_wav(audio_path)\n",
    "    \n",
    "    # Normalização do volume\n",
    "    audio = normalize(audio)\n",
    "    \n",
    "    # Salvando o áudio processado\n",
    "    #audio.export('audio_normalizado.wav', format='wav')\n",
    "    \n",
    "    return audio"
   ]
  },
  {
   "cell_type": "code",
   "execution_count": null,
   "metadata": {},
   "outputs": [],
   "source": [
    "import speech_recognition as sr\n",
    "from pyAudioAnalysis import audioSegmentation as aS\n",
    "\n",
    "def transcribe_audio(audio_normalized):\n",
    "    # Inicializa o reconhecedor de fala\n",
    "    r = sr.Recognizer()\n",
    "\n",
    "    # Carrega o arquivo de áudio pré-processado\n",
    "    with sr.AudioFile(audio_normalized) as source:\n",
    "        # Reduz ruído de fundo\n",
    "        r.adjust_for_ambient_noise(source)\n",
    "        audio_data = r.record(source)\n",
    "\n",
    "        # Transcrição usando a API do Google (ou qualquer outra API)\n",
    "        try:\n",
    "            text = r.recognize_google(audio_data, language='pt-BR')\n",
    "            print(\"Transcrição: \", text)\n",
    "        except sr.UnknownValueError:\n",
    "            print(\"Transcrição não foi possível; áudio não reconhecido.\")\n",
    "        except sr.RequestError as e:\n",
    "            print(f\"Erro ao tentar acessar o serviço de transcrição: {e}\")\n",
    "    \n",
    "    # Segmentar falas baseadas nos falantes\n",
    "    flags = aS.speaker_diarization(audio_normalized, n_speakers=2)\n",
    "    return audio_data, flags"
   ]
  },
  {
   "cell_type": "code",
   "execution_count": null,
   "metadata": {},
   "outputs": [],
   "source": []
  }
 ],
 "metadata": {
  "kernelspec": {
   "display_name": ".venv",
   "language": "python",
   "name": "python3"
  },
  "language_info": {
   "codemirror_mode": {
    "name": "ipython",
    "version": 3
   },
   "file_extension": ".py",
   "mimetype": "text/x-python",
   "name": "python",
   "nbconvert_exporter": "python",
   "pygments_lexer": "ipython3",
   "version": "3.11.9"
  }
 },
 "nbformat": 4,
 "nbformat_minor": 2
}
